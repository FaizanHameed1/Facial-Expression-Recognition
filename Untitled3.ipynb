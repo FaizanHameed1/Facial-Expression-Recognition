{
  "nbformat": 4,
  "nbformat_minor": 0,
  "metadata": {
    "colab": {
      "name": "Untitled3.ipynb",
      "provenance": [],
      "authorship_tag": "ABX9TyM1M7fnBjl3p1uxtcoBiXO7"
    },
    "kernelspec": {
      "display_name": "Python 3",
      "name": "python3"
    },
    "language_info": {
      "name": "python"
    }
  },
  "cells": [
    {
      "cell_type": "code",
      "metadata": {
        "colab": {
          "base_uri": "https://localhost:8080/"
        },
        "id": "PkbqbH_1BRrq",
        "outputId": "c812389a-c5b9-4b00-82d6-216e3b7f8ee6"
      },
      "source": [
        "#Mounting the drive\n",
        "from google.colab import drive\n",
        "drive.mount('/content/gdrive')"
      ],
      "execution_count": 48,
      "outputs": [
        {
          "output_type": "stream",
          "text": [
            "Drive already mounted at /content/gdrive; to attempt to forcibly remount, call drive.mount(\"/content/gdrive\", force_remount=True).\n"
          ],
          "name": "stdout"
        }
      ]
    },
    {
      "cell_type": "code",
      "metadata": {
        "id": "QSXqLsdaBVpN"
      },
      "source": [
        "#giving directory \n",
        "#import os\n",
        "#os.environ['KAGGLE_CONFIG_DIR'] = \"/content/gdrive/My Drive/Kaggle\"\n",
        "# /content/gdrive/My Drive/Kaggle is the path where kaggle.json is present in the Google Drive\n"
      ],
      "execution_count": 49,
      "outputs": []
    },
    {
      "cell_type": "code",
      "metadata": {
        "colab": {
          "base_uri": "https://localhost:8080/"
        },
        "id": "b36Dxm96BZ8Q",
        "outputId": "086cd71a-d512-4947-da8d-f9cc7486d691"
      },
      "source": [
        "#cd /content/gdrive/My Drive/Kaggle"
      ],
      "execution_count": 50,
      "outputs": [
        {
          "output_type": "stream",
          "text": [
            "/content/gdrive/My Drive/Kaggle\n"
          ],
          "name": "stdout"
        }
      ]
    },
    {
      "cell_type": "code",
      "metadata": {
        "id": "JfFW1C9xG5NI"
      },
      "source": [
        "#Downloading dataset by copying API from kaggle\n",
        "#!kaggle datasets download -d msambare/fer2013"
      ],
      "execution_count": 51,
      "outputs": []
    },
    {
      "cell_type": "code",
      "metadata": {
        "id": "e1u6PnUBG91v"
      },
      "source": [
        "#Run only once to unzip the Dataset\n",
        "#unzipping the zip files and deleting the zip files\n",
        "#!unzip \\*.zip  && rm *.zip\n"
      ],
      "execution_count": 54,
      "outputs": []
    },
    {
      "cell_type": "code",
      "metadata": {
        "id": "YsPjMUzzHBVH"
      },
      "source": [
        "import pandas as pd\n",
        "import numpy as np\n",
        "import cv2\n",
        "import matplotlib.pyplot as plt\n",
        "%matplotlib inline"
      ],
      "execution_count": 55,
      "outputs": []
    },
    {
      "cell_type": "code",
      "metadata": {
        "id": "l80hwkXI0eEc"
      },
      "source": [
        "\n",
        "from keras.model import sequential\n",
        "from keras.layers.convolutional import MaxPooling2D, ZeroPadding2D, Convolution2D\n",
        "from keras.optimizers import SGD\n",
        "from keras.layers.core import Dropout,Flatten, Dense"
      ],
      "execution_count": null,
      "outputs": []
    },
    {
      "cell_type": "code",
      "metadata": {
        "colab": {
          "base_uri": "https://localhost:8080/"
        },
        "id": "ThT_bvmwtp9e",
        "outputId": "6edce466-717b-4d6b-a60e-0897a32bb6b9"
      },
      "source": [
        "#In the drive we made a folder with the name \"FER_2013 Dataset\"\n",
        "cd /content/gdrive/My Drive/Kaggle/FER_2013 Dataset"
      ],
      "execution_count": 60,
      "outputs": [
        {
          "output_type": "stream",
          "text": [
            "/content/gdrive/My Drive/Kaggle/FER_2013 Dataset\n"
          ],
          "name": "stdout"
        }
      ]
    },
    {
      "cell_type": "code",
      "metadata": {
        "id": "CiLVxl0lHF5b",
        "colab": {
          "base_uri": "https://localhost:8080/",
          "height": 35
        },
        "outputId": "486bc8ca-b9dc-4acc-dc98-3ca539240926"
      },
      "source": [
        "#Check the present working directory\n",
        "import os\n",
        "os.getcwd()"
      ],
      "execution_count": 61,
      "outputs": [
        {
          "output_type": "execute_result",
          "data": {
            "application/vnd.google.colaboratory.intrinsic+json": {
              "type": "string"
            },
            "text/plain": [
              "'/content/gdrive/My Drive/Kaggle/FER_2013 Dataset'"
            ]
          },
          "metadata": {
            "tags": []
          },
          "execution_count": 61
        }
      ]
    },
    {
      "cell_type": "code",
      "metadata": {
        "colab": {
          "base_uri": "https://localhost:8080/"
        },
        "id": "eRaUXsRTHJNy",
        "outputId": "8a93a6cb-dc7b-4227-ebd0-7735b70e3557"
      },
      "source": [
        "!ls"
      ],
      "execution_count": 62,
      "outputs": [
        {
          "output_type": "stream",
          "text": [
            "test  train\n"
          ],
          "name": "stdout"
        }
      ]
    },
    {
      "cell_type": "code",
      "metadata": {
        "id": "E3W6IdFFBZoT"
      },
      "source": [
        "#direction of our train and test dataset\n",
        "train_dir = '/content/gdrive/My Drive/Kaggle/FER_2013 Dataset/train/'\n",
        "test_dir = '/content/gdrive/My Drive/Kaggle/FER_2013 Dataset/test/'"
      ],
      "execution_count": 64,
      "outputs": []
    },
    {
      "cell_type": "code",
      "metadata": {
        "colab": {
          "base_uri": "https://localhost:8080/"
        },
        "id": "d7uWwSQgEtP2",
        "outputId": "113afd24-3107-4c14-897d-3f798ceeb600"
      },
      "source": [
        "os.listdir(train_dir)#these are different folders in train dataset"
      ],
      "execution_count": 65,
      "outputs": [
        {
          "output_type": "execute_result",
          "data": {
            "text/plain": [
              "['angry', 'disgust', 'fear', 'happy', 'neutral', 'sad', 'surprise']"
            ]
          },
          "metadata": {
            "tags": []
          },
          "execution_count": 65
        }
      ]
    },
    {
      "cell_type": "code",
      "metadata": {
        "colab": {
          "base_uri": "https://localhost:8080/"
        },
        "id": "B1QjN7IyFQgk",
        "outputId": "fa63997f-4652-45a7-fc0f-656b42515518"
      },
      "source": [
        "os.listdir(test_dir)"
      ],
      "execution_count": 66,
      "outputs": [
        {
          "output_type": "execute_result",
          "data": {
            "text/plain": [
              "['angry', 'surprise', 'sad', 'neutral', 'happy', 'fear', 'disgust']"
            ]
          },
          "metadata": {
            "tags": []
          },
          "execution_count": 66
        }
      ]
    },
    {
      "cell_type": "code",
      "metadata": {
        "id": "gIvehgaDukA9"
      },
      "source": [
        ""
      ],
      "execution_count": null,
      "outputs": []
    }
  ]
}