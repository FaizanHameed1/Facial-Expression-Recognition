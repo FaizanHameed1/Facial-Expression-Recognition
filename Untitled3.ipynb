{
  "nbformat": 4,
  "nbformat_minor": 0,
  "metadata": {
    "colab": {
      "name": "Untitled3.ipynb",
      "provenance": []
    },
    "kernelspec": {
      "display_name": "Python 3",
      "name": "python3"
    },
    "language_info": {
      "name": "python"
    }
  },
  "cells": [
    {
      "cell_type": "code",
      "metadata": {
        "colab": {
          "base_uri": "https://localhost:8080/"
        },
        "id": "PkbqbH_1BRrq",
        "outputId": "9074926b-1483-4edd-aa36-a5639a321902"
      },
      "source": [
        "#Mounting the drive\n",
        "from google.colab import drive\n",
        "drive.mount('/content/gdrive')"
      ],
      "execution_count": 1,
      "outputs": [
        {
          "output_type": "stream",
          "text": [
            "Mounted at /content/gdrive\n"
          ],
          "name": "stdout"
        }
      ]
    },
    {
      "cell_type": "code",
      "metadata": {
        "id": "QSXqLsdaBVpN"
      },
      "source": [
        "#giving directory \n",
        "#import os\n",
        "#os.environ['KAGGLE_CONFIG_DIR'] = \"/content/gdrive/My Drive/Kaggle\"\n",
        "# /content/gdrive/My Drive/Kaggle is the path where kaggle.json is present in the Google Drive\n"
      ],
      "execution_count": 2,
      "outputs": []
    },
    {
      "cell_type": "code",
      "metadata": {
        "id": "b36Dxm96BZ8Q"
      },
      "source": [
        "#cd /content/gdrive/My Drive/Kaggle"
      ],
      "execution_count": 3,
      "outputs": []
    },
    {
      "cell_type": "code",
      "metadata": {
        "id": "JfFW1C9xG5NI"
      },
      "source": [
        "#Downloading dataset by copying API from kaggle\n",
        "#!kaggle datasets download -d msambare/fer2013"
      ],
      "execution_count": 4,
      "outputs": []
    },
    {
      "cell_type": "code",
      "metadata": {
        "id": "e1u6PnUBG91v"
      },
      "source": [
        "#Run only once to unzip the Dataset\n",
        "#unzipping the zip files and deleting the zip files\n",
        "#!unzip \\*.zip  && rm *.zip\n"
      ],
      "execution_count": 5,
      "outputs": []
    },
    {
      "cell_type": "code",
      "metadata": {
        "id": "YsPjMUzzHBVH"
      },
      "source": [
        "import pandas as pd\n",
        "import numpy as np\n",
        "import cv2\n",
        "import matplotlib.pyplot as plt\n",
        "%matplotlib inline"
      ],
      "execution_count": 6,
      "outputs": []
    },
    {
      "cell_type": "code",
      "metadata": {
        "id": "l80hwkXI0eEc"
      },
      "source": [
        "\n",
        "from keras.models import Sequential\n",
        "from keras.layers.convolutional import MaxPooling2D, ZeroPadding2D, Convolution2D\n",
        "from keras.optimizers import SGD\n",
        "from keras.layers.core import Dropout,Flatten, Dense\n",
        "from keras.preprocessing.image import ImageDataGenerator, load_img"
      ],
      "execution_count": 61,
      "outputs": []
    },
    {
      "cell_type": "code",
      "metadata": {
        "colab": {
          "base_uri": "https://localhost:8080/"
        },
        "id": "ThT_bvmwtp9e",
        "outputId": "1e97cb9a-0a48-4091-ee63-1825b950a65d"
      },
      "source": [
        "#In the drive we made a folder with the name \"FER_2013 Dataset\"\n",
        "#cd /content/gdrive/My Drive/Kaggle/FER_2013 Dataset\n",
        "%cd /content/gdrive/My Drive/Kaggle/FER_2013 Dataset"
      ],
      "execution_count": 19,
      "outputs": [
        {
          "output_type": "stream",
          "text": [
            "/content/gdrive/My Drive/Kaggle/FER_2013 Dataset\n"
          ],
          "name": "stdout"
        }
      ]
    },
    {
      "cell_type": "code",
      "metadata": {
        "id": "CiLVxl0lHF5b",
        "colab": {
          "base_uri": "https://localhost:8080/",
          "height": 35
        },
        "outputId": "ef32d1f6-184c-4b1b-d849-90a48397ba59"
      },
      "source": [
        "#Check the present working directory\n",
        "import os\n",
        "os.getcwd()"
      ],
      "execution_count": 20,
      "outputs": [
        {
          "output_type": "execute_result",
          "data": {
            "application/vnd.google.colaboratory.intrinsic+json": {
              "type": "string"
            },
            "text/plain": [
              "'/content/gdrive/My Drive/Kaggle/FER_2013 Dataset'"
            ]
          },
          "metadata": {
            "tags": []
          },
          "execution_count": 20
        }
      ]
    },
    {
      "cell_type": "code",
      "metadata": {
        "colab": {
          "base_uri": "https://localhost:8080/"
        },
        "id": "eRaUXsRTHJNy",
        "outputId": "ab507dbe-23d5-47a4-9827-b675accc5ae5"
      },
      "source": [
        "!ls"
      ],
      "execution_count": 21,
      "outputs": [
        {
          "output_type": "stream",
          "text": [
            "test  train\n"
          ],
          "name": "stdout"
        }
      ]
    },
    {
      "cell_type": "code",
      "metadata": {
        "id": "E3W6IdFFBZoT"
      },
      "source": [
        "#direction of our train and test dataset\n",
        "train_direct = '/content/gdrive/My Drive/Kaggle/FER_2013 Dataset/train/'\n",
        "test_direct = '/content/gdrive/My Drive/Kaggle/FER_2013 Dataset/test/'"
      ],
      "execution_count": 52,
      "outputs": []
    },
    {
      "cell_type": "code",
      "metadata": {
        "colab": {
          "base_uri": "https://localhost:8080/"
        },
        "id": "d7uWwSQgEtP2",
        "outputId": "3f134881-375d-4e59-fb56-e5c9fbbc8f9d"
      },
      "source": [
        "os.listdir(train_direct)#these are different folders in train dataset"
      ],
      "execution_count": 54,
      "outputs": [
        {
          "output_type": "execute_result",
          "data": {
            "text/plain": [
              "['angry', 'disgust', 'fear', 'happy', 'neutral', 'sad', 'surprise']"
            ]
          },
          "metadata": {
            "tags": []
          },
          "execution_count": 54
        }
      ]
    },
    {
      "cell_type": "code",
      "metadata": {
        "colab": {
          "base_uri": "https://localhost:8080/"
        },
        "id": "B1QjN7IyFQgk",
        "outputId": "897dfcaa-ecbc-4a62-d1b6-42f8cf0aaf92"
      },
      "source": [
        "os.listdir(test_direct)"
      ],
      "execution_count": 55,
      "outputs": [
        {
          "output_type": "execute_result",
          "data": {
            "text/plain": [
              "['angry', 'disgust', 'fear', 'happy', 'neutral', 'sad', 'surprise']"
            ]
          },
          "metadata": {
            "tags": []
          },
          "execution_count": 55
        }
      ]
    },
    {
      "cell_type": "code",
      "metadata": {
        "colab": {
          "base_uri": "https://localhost:8080/"
        },
        "id": "gIvehgaDukA9",
        "outputId": "882d251d-9a2f-4cbc-ea9f-89a11c85cacf"
      },
      "source": [
        "#accessing each folder in train data\n",
        "for folder in os.listdir(train_direct):\n",
        "  print(folder)"
      ],
      "execution_count": 56,
      "outputs": [
        {
          "output_type": "stream",
          "text": [
            "angry\n",
            "disgust\n",
            "fear\n",
            "happy\n",
            "neutral\n",
            "sad\n",
            "surprise\n"
          ],
          "name": "stdout"
        }
      ]
    },
    {
      "cell_type": "code",
      "metadata": {
        "colab": {
          "base_uri": "https://localhost:8080/"
        },
        "id": "uwbiWT9EfbWp",
        "outputId": "499bed7b-b066-4dec-cd4a-98904aeafb6e"
      },
      "source": [
        "\n",
        "#train_folder_directory=[]#Making the directory of every folder in training set\n",
        "#class_dict_train={}#Dict to save the number of immages in each class in test set\n",
        "#for folder in os.listdir(train_direct):\n",
        "#  fold_direct=train_direct + folder\n",
        "#  train_folder_directory.append(fold_direct)\n",
        "#  class_dict_train[folder]=len(os.listdir(fold_direct))\n",
        "\n",
        "#print(train_folder_directory)\n",
        "#print(class_dict_train)"
      ],
      "execution_count": 38,
      "outputs": [
        {
          "output_type": "stream",
          "text": [
            "['/content/gdrive/My Drive/Kaggle/FER_2013 Dataset/train/angry', '/content/gdrive/My Drive/Kaggle/FER_2013 Dataset/train/disgust', '/content/gdrive/My Drive/Kaggle/FER_2013 Dataset/train/fear', '/content/gdrive/My Drive/Kaggle/FER_2013 Dataset/train/happy', '/content/gdrive/My Drive/Kaggle/FER_2013 Dataset/train/neutral', '/content/gdrive/My Drive/Kaggle/FER_2013 Dataset/train/sad', '/content/gdrive/My Drive/Kaggle/FER_2013 Dataset/train/surprise']\n",
            "{'angry': 3995, 'disgust': 436, 'fear': 4097, 'happy': 7215, 'neutral': 2692, 'sad': 90, 'surprise': 0}\n"
          ],
          "name": "stdout"
        }
      ]
    },
    {
      "cell_type": "code",
      "metadata": {
        "colab": {
          "base_uri": "https://localhost:8080/"
        },
        "id": "hSa-hj7jeidb",
        "outputId": "ac648f3f-e24e-43bf-a709-987b06aede5e"
      },
      "source": [
        "#test_folder_directory=[]#Making the directory of every folder in test set\n",
        "#class_dict_test={}#Dict to save the number of immages in each class in test set\n",
        "#for folder in os.listdir(test_direct):\n",
        "#  fold_direct=test_direct + folder\n",
        "#  test_folder_directory.append(fold_direct)\n",
        "#  class_dict_test[folder]=len(os.listdir(fold_direct))\n",
        "\n",
        "#print(test_folder_directory)\n",
        "#print(class_dict_test)"
      ],
      "execution_count": 39,
      "outputs": [
        {
          "output_type": "stream",
          "text": [
            "['/content/gdrive/My Drive/Kaggle/FER_2013 Dataset/test/angry', '/content/gdrive/My Drive/Kaggle/FER_2013 Dataset/test/disgust', '/content/gdrive/My Drive/Kaggle/FER_2013 Dataset/test/fear', '/content/gdrive/My Drive/Kaggle/FER_2013 Dataset/test/happy', '/content/gdrive/My Drive/Kaggle/FER_2013 Dataset/test/neutral', '/content/gdrive/My Drive/Kaggle/FER_2013 Dataset/test/sad', '/content/gdrive/My Drive/Kaggle/FER_2013 Dataset/test/surprise']\n",
            "{'angry': 958, 'disgust': 111, 'fear': 1024, 'happy': 1774, 'neutral': 1233, 'sad': 1247, 'surprise': 831}\n"
          ],
          "name": "stdout"
        }
      ]
    },
    {
      "cell_type": "code",
      "metadata": {
        "id": "kpcqLesvy23C"
      },
      "source": [
        "#we can made a function for upper two cells code\n",
        "folder_directory=[] #Making the directory of every folder \n",
        "class_dict={} #Dict to save the number of immages in each class\n",
        "def immages_in_class(path_dir):\n",
        "  for folder in os.listdir(path_dir):\n",
        "    fold_direct=path_dir + folder\n",
        "    folder_directory.append(fold_direct)\n",
        "    class_dict[folder]=len(os.listdir(fold_direct))\n",
        "  return class_dict,folder_directory"
      ],
      "execution_count": 57,
      "outputs": []
    },
    {
      "cell_type": "code",
      "metadata": {
        "colab": {
          "base_uri": "https://localhost:8080/"
        },
        "id": "b4QWIGVj3fRG",
        "outputId": "a1f5dbec-bed2-42f7-a578-384984148fdc"
      },
      "source": [
        "train_classes,train_folder_directions= immages_in_class(train_direct)\n",
        "test_classes,test_folder_directions= immages_in_class(test_direct)\n",
        "print(f'No of immages in each class in train set: {train_classes_immages}')\n",
        "print(f'No of immages in each class in test set: {test_classes_immages}')"
      ],
      "execution_count": 58,
      "outputs": [
        {
          "output_type": "stream",
          "text": [
            "No of immages in each class in train set: {'angry': 958, 'disgust': 111, 'fear': 1024, 'happy': 1774, 'neutral': 1233, 'sad': 1247, 'surprise': 831}\n",
            "No of immages in each class in test set: {'angry': 958, 'disgust': 111, 'fear': 1024, 'happy': 1774, 'neutral': 1233, 'sad': 1247, 'surprise': 831}\n"
          ],
          "name": "stdout"
        }
      ]
    },
    {
      "cell_type": "code",
      "metadata": {
        "colab": {
          "base_uri": "https://localhost:8080/"
        },
        "id": "JWTkt6pW5zgN",
        "outputId": "550263f2-2ab4-42c8-81db-a755cb62b67c"
      },
      "source": [
        "#Directory of each folders in train and test for future use if required\n",
        "print(f'train folder directions: {train_folder_directions}')\n",
        "print(f'test folder directions: {test_folder_directions}')"
      ],
      "execution_count": 59,
      "outputs": [
        {
          "output_type": "stream",
          "text": [
            "train folder directions: ['/content/gdrive/My Drive/Kaggle/FER_2013 Dataset/train/angry', '/content/gdrive/My Drive/Kaggle/FER_2013 Dataset/train/disgust', '/content/gdrive/My Drive/Kaggle/FER_2013 Dataset/train/fear', '/content/gdrive/My Drive/Kaggle/FER_2013 Dataset/train/happy', '/content/gdrive/My Drive/Kaggle/FER_2013 Dataset/train/neutral', '/content/gdrive/My Drive/Kaggle/FER_2013 Dataset/train/sad', '/content/gdrive/My Drive/Kaggle/FER_2013 Dataset/train/surprise', '/content/gdrive/My Drive/Kaggle/FER_2013 Dataset/test/angry', '/content/gdrive/My Drive/Kaggle/FER_2013 Dataset/test/disgust', '/content/gdrive/My Drive/Kaggle/FER_2013 Dataset/test/fear', '/content/gdrive/My Drive/Kaggle/FER_2013 Dataset/test/happy', '/content/gdrive/My Drive/Kaggle/FER_2013 Dataset/test/neutral', '/content/gdrive/My Drive/Kaggle/FER_2013 Dataset/test/sad', '/content/gdrive/My Drive/Kaggle/FER_2013 Dataset/test/surprise']\n",
            "test folder directions: ['/content/gdrive/My Drive/Kaggle/FER_2013 Dataset/train/angry', '/content/gdrive/My Drive/Kaggle/FER_2013 Dataset/train/disgust', '/content/gdrive/My Drive/Kaggle/FER_2013 Dataset/train/fear', '/content/gdrive/My Drive/Kaggle/FER_2013 Dataset/train/happy', '/content/gdrive/My Drive/Kaggle/FER_2013 Dataset/train/neutral', '/content/gdrive/My Drive/Kaggle/FER_2013 Dataset/train/sad', '/content/gdrive/My Drive/Kaggle/FER_2013 Dataset/train/surprise', '/content/gdrive/My Drive/Kaggle/FER_2013 Dataset/test/angry', '/content/gdrive/My Drive/Kaggle/FER_2013 Dataset/test/disgust', '/content/gdrive/My Drive/Kaggle/FER_2013 Dataset/test/fear', '/content/gdrive/My Drive/Kaggle/FER_2013 Dataset/test/happy', '/content/gdrive/My Drive/Kaggle/FER_2013 Dataset/test/neutral', '/content/gdrive/My Drive/Kaggle/FER_2013 Dataset/test/sad', '/content/gdrive/My Drive/Kaggle/FER_2013 Dataset/test/surprise']\n"
          ],
          "name": "stdout"
        }
      ]
    },
    {
      "cell_type": "code",
      "metadata": {
        "id": "FjhrDZ8MAamo"
      },
      "source": [
        "#it is better to plot after converting into dataframe but we are going to plot the dictionary\n",
        "#plotting the dictionary\n"
      ],
      "execution_count": null,
      "outputs": []
    },
    {
      "cell_type": "code",
      "metadata": {
        "colab": {
          "base_uri": "https://localhost:8080/"
        },
        "id": "K9tG49A_AqSI",
        "outputId": "afbe0f46-beae-40d5-9772-fd9cf244c7a1"
      },
      "source": [
        "#using .flow_from_directory(directory)\n",
        "#Check https://www.tensorflow.org/api_docs/python/tf/keras/preprocessing/image/ImageDataGenerator for further info (Also check how to use if using .flow(x, y)  )\n",
        "train_datagen = ImageDataGenerator(rescale=1./255,shear_range=0.2,zoom_range=0.2,horizontal_flip=True)#ImageDataGenerator Generate batches of tensor image data with real-time data augmentation.\n",
        "test_datagen = ImageDataGenerator(rescale=1./255)\n",
        "train = train_datagen.flow_from_directory(train_direct,target_size=(48, 48),batch_size=32,class_mode='categorical',color_mode='grayscale')\n",
        "validation = test_datagen.flow_from_directory(test_direct,target_size=(48, 48),batch_size=32,class_mode='categorical',color_mode='grayscale')#test or validation set"
      ],
      "execution_count": 66,
      "outputs": [
        {
          "output_type": "stream",
          "text": [
            "Found 18525 images belonging to 7 classes.\n",
            "Found 7178 images belonging to 7 classes.\n"
          ],
          "name": "stdout"
        }
      ]
    },
    {
      "cell_type": "code",
      "metadata": {
        "id": "iZ7XYchSiKsL"
      },
      "source": [
        ""
      ],
      "execution_count": null,
      "outputs": []
    }
  ]
}